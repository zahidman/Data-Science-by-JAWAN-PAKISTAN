{
 "cells": [
  {
   "cell_type": "code",
   "execution_count": 1,
   "id": "584a4280",
   "metadata": {},
   "outputs": [
    {
     "ename": "SyntaxError",
     "evalue": "invalid syntax (Temp/ipykernel_15920/4052785602.py, line 1)",
     "output_type": "error",
     "traceback": [
      "\u001b[1;36m  File \u001b[1;32m\"C:\\Users\\ZAHIDM~1\\AppData\\Local\\Temp/ipykernel_15920/4052785602.py\"\u001b[1;36m, line \u001b[1;32m1\u001b[0m\n\u001b[1;33m    [11:37 PM, 1/1/2022] Ahmad Roomate: #program 4\u001b[0m\n\u001b[1;37m       ^\u001b[0m\n\u001b[1;31mSyntaxError\u001b[0m\u001b[1;31m:\u001b[0m invalid syntax\n"
     ]
    }
   ],
   "source": [
    "[11:37 PM, 1/1/2022] Ahmad Roomate: #program 4\n",
    "\n",
    "from math import pi\n",
    "radius=float(input(\"enter the radius of circle \"));\n",
    "area= str(pi*radius**2);\n",
    "print(\"area of circle = \" + area);\n",
    "[11:37 PM, 1/1/2022] Ahmad Roomate: #program 5\n",
    "\n",
    "firstName= input(\"enter your first name\");\n",
    "lastName= input(\"enter your last name\");\n",
    "print(lastName + \" \" + firstName);\n",
    "[11:37 PM, 1/1/2022] Ahmad Roomate: #program 6\n",
    "\n",
    "a= int(input(\"enter first number\"));\n",
    "b= int(input(\"enter second number\"));\n",
    "c= a+b;\n",
    "print(c);"
   ]
  },
  {
   "cell_type": "code",
   "execution_count": null,
   "id": "8515bea6",
   "metadata": {},
   "outputs": [],
   "source": []
  }
 ],
 "metadata": {
  "kernelspec": {
   "display_name": "Python 3 (ipykernel)",
   "language": "python",
   "name": "python3"
  },
  "language_info": {
   "codemirror_mode": {
    "name": "ipython",
    "version": 3
   },
   "file_extension": ".py",
   "mimetype": "text/x-python",
   "name": "python",
   "nbconvert_exporter": "python",
   "pygments_lexer": "ipython3",
   "version": "3.9.7"
  }
 },
 "nbformat": 4,
 "nbformat_minor": 5
}
