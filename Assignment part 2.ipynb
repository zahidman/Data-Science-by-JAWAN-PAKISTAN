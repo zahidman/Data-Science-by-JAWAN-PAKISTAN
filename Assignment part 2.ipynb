{
 "cells": [
  {
   "cell_type": "code",
   "execution_count": 2,
   "id": "79a134f9",
   "metadata": {},
   "outputs": [
    {
     "name": "stdout",
     "output_type": "stream",
     "text": [
      "enter the radius of circle 4\n",
      "area of circle = 50.26548245743669\n",
      "enter your first nameZahid\n",
      "enter your last nameManzoor\n",
      "Manzoor Zahid\n",
      "enter first number10\n",
      "enter second number20\n",
      "30\n"
     ]
    }
   ],
   "source": [
    " #program 4\n",
    "\n",
    "from math import pi\n",
    "radius=float(input(\"enter the radius of circle \"));\n",
    "area= str(pi*radius**2);\n",
    "print(\"area of circle = \" + area);\n",
    " #program 5\n",
    "\n",
    "firstName= input(\"enter your first name\");\n",
    "lastName= input(\"enter your last name\");\n",
    "print(lastName + \" \" + firstName);\n",
    " #program 6\n",
    "\n",
    "a= int(input(\"enter first number\"));\n",
    "b= int(input(\"enter second number\"));\n",
    "c= a+b;\n",
    "print(c);"
   ]
  },
  {
   "cell_type": "code",
   "execution_count": null,
   "id": "d365cfba",
   "metadata": {},
   "outputs": [],
   "source": []
  }
 ],
 "metadata": {
  "kernelspec": {
   "display_name": "Python 3 (ipykernel)",
   "language": "python",
   "name": "python3"
  },
  "language_info": {
   "codemirror_mode": {
    "name": "ipython",
    "version": 3
   },
   "file_extension": ".py",
   "mimetype": "text/x-python",
   "name": "python",
   "nbconvert_exporter": "python",
   "pygments_lexer": "ipython3",
   "version": "3.9.7"
  }
 },
 "nbformat": 4,
 "nbformat_minor": 5
}
